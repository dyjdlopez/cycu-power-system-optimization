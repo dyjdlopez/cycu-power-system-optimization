{
  "nbformat": 4,
  "nbformat_minor": 0,
  "metadata": {
    "colab": {
      "provenance": [],
      "collapsed_sections": [],
      "authorship_tag": "ABX9TyMbR2IvSAYxIAxgkR9WtFdI",
      "include_colab_link": true
    },
    "kernelspec": {
      "name": "python3",
      "display_name": "Python 3"
    },
    "language_info": {
      "name": "python"
    }
  },
  "cells": [
    {
      "cell_type": "markdown",
      "metadata": {
        "id": "view-in-github",
        "colab_type": "text"
      },
      "source": [
        "<a href=\"https://colab.research.google.com/github/dyjdlopez/cycu-power-system-optimization/blob/main/01%20-%20economic%20dispatch/01-%20ed01.ipynb\" target=\"_parent\"><img src=\"https://colab.research.google.com/assets/colab-badge.svg\" alt=\"Open In Colab\"/></a>"
      ]
    },
    {
      "cell_type": "markdown",
      "source": [
        "# 1. Economic Dispatch Solutions in Python\n",
        "$\\text{by D.J.D. Lopez (迪倫)}$"
      ],
      "metadata": {
        "id": "hfBEAFwGguRq"
      }
    },
    {
      "cell_type": "code",
      "execution_count": null,
      "metadata": {
        "id": "nfnaRZMpeY8G"
      },
      "outputs": [],
      "source": [
        "import numpy as np\n",
        "from scipy.misc import derivative as d\n",
        "from sympy import *\n",
        "from IPython.display import display, Math\n",
        "import pandas as pd\n",
        "\n",
        "import matplotlib.pyplot as plt"
      ]
    },
    {
      "cell_type": "markdown",
      "source": [
        "## 1.1 ED neglecting generator limits and line losses"
      ],
      "metadata": {
        "id": "1MZkmd-Ogmna"
      }
    },
    {
      "cell_type": "markdown",
      "source": [
        "An area of an interconnected power systeamw has two fossi-fuel units operating on economic dispatch. The variable costs of these units are given by:\n",
        "$$C_1 = 10P_1 + 0.008P^2_1\\\\ C_2 =8P_2 + 0.009P^2_2$$\n",
        "where $P_1$ and $P_2$ are in MW and $C_1$ and $C_2$ are in $\\frac{$}{h}$. Determine the **power ouput of each unit**, the **incremental operating cost**, and the **total operating cost $C_T$ that minimizes $C_T$** as the total demand $P_t$ varies from 500 to 1500 MW."
      ],
      "metadata": {
        "id": "N7l6iK34eyia"
      }
    },
    {
      "cell_type": "code",
      "source": [
        "Pt = np.arange(500, 1600, 100)"
      ],
      "metadata": {
        "id": "23IkEoAyrUvz"
      },
      "execution_count": null,
      "outputs": []
    },
    {
      "cell_type": "code",
      "source": [
        "P1, P2, PT, L = symbols(\"P1 P2 PT L\")\n",
        "\n",
        "C1 = 10*P1+8e-3*P1**2\n",
        "C2 = 8*P2+9e-3*P2**2\n",
        "\n",
        "display(Math(rf'$C_1 = {latex(C1)}$'))\n",
        "display(Math(rf'$C_2 = {latex(C2)}$'))"
      ],
      "metadata": {
        "colab": {
          "base_uri": "https://localhost:8080/",
          "height": 61
        },
        "id": "aGXH5BqBxaal",
        "outputId": "268c223a-18ca-44ad-8508-d337d0b7756e"
      },
      "execution_count": null,
      "outputs": [
        {
          "output_type": "display_data",
          "data": {
            "text/plain": [
              "<IPython.core.display.Math object>"
            ],
            "text/latex": "$\\displaystyle C_1 = 0.008 P_{1}^{2} + 10 P_{1}$"
          },
          "metadata": {}
        },
        {
          "output_type": "display_data",
          "data": {
            "text/plain": [
              "<IPython.core.display.Math object>"
            ],
            "text/latex": "$\\displaystyle C_2 = 0.009 P_{2}^{2} + 8 P_{2}$"
          },
          "metadata": {}
        }
      ]
    },
    {
      "cell_type": "code",
      "source": [
        "dC1 = diff(C1)\n",
        "dC2 = diff(C2)\n",
        "\n",
        "display(Math(rf'$\\frac{{dC_1}}{{dP_1}} = {latex(dC1)}$'))\n",
        "display(Math(rf'$\\frac{{dC_2}}{{dP_2}} = {latex(dC2)}$'))"
      ],
      "metadata": {
        "colab": {
          "base_uri": "https://localhost:8080/",
          "height": 92
        },
        "id": "IHTBAmyAyFKj",
        "outputId": "03dc9745-86e9-4173-ee7b-681d6453cef8"
      },
      "execution_count": null,
      "outputs": [
        {
          "output_type": "display_data",
          "data": {
            "text/plain": [
              "<IPython.core.display.Math object>"
            ],
            "text/latex": "$\\displaystyle \\frac{dC_1}{dP_1} = 0.016 P_{1} + 10$"
          },
          "metadata": {}
        },
        {
          "output_type": "display_data",
          "data": {
            "text/plain": [
              "<IPython.core.display.Math object>"
            ],
            "text/latex": "$\\displaystyle \\frac{dC_2}{dP_2} = 0.018 P_{2} + 8$"
          },
          "metadata": {}
        }
      ]
    },
    {
      "cell_type": "code",
      "source": [
        "Eq = dC1 - dC2\n",
        "P1_s = solve(Eq.subs(P2, PT-P1), P1)[0]\n",
        "display(Math(rf'P1 = {latex(P1_s)}'))"
      ],
      "metadata": {
        "colab": {
          "base_uri": "https://localhost:8080/",
          "height": 39
        },
        "id": "g9usnh1S2VBq",
        "outputId": "404a9674-795b-4626-d656-ceba145abc65"
      },
      "execution_count": null,
      "outputs": [
        {
          "output_type": "display_data",
          "data": {
            "text/plain": [
              "<IPython.core.display.Math object>"
            ],
            "text/latex": "$\\displaystyle P1 = 0.529411764705882 PT - 58.8235294117647$"
          },
          "metadata": {}
        }
      ]
    },
    {
      "cell_type": "code",
      "source": [
        "P2_s = (PT - P1).subs(P1, P1_s)\n",
        "display(Math(rf'P2 = {latex(P2_s)}'))"
      ],
      "metadata": {
        "colab": {
          "base_uri": "https://localhost:8080/",
          "height": 39
        },
        "id": "isKS_yX6_zLR",
        "outputId": "20061b24-b7a4-4723-949d-2be1b0c93b93"
      },
      "execution_count": null,
      "outputs": [
        {
          "output_type": "display_data",
          "data": {
            "text/plain": [
              "<IPython.core.display.Math object>"
            ],
            "text/latex": "$\\displaystyle P2 = 0.470588235294118 PT + 58.8235294117647$"
          },
          "metadata": {}
        }
      ]
    },
    {
      "cell_type": "code",
      "source": [
        "L = dC1.subs(P1, P1_s)\n",
        "display(Math(rf'λ = {latex(L)}'))"
      ],
      "metadata": {
        "colab": {
          "base_uri": "https://localhost:8080/",
          "height": 39
        },
        "id": "70Ae8Rce51o4",
        "outputId": "9ce5cea9-fa92-4964-d88a-4824670f1b90"
      },
      "execution_count": null,
      "outputs": [
        {
          "output_type": "display_data",
          "data": {
            "text/plain": [
              "<IPython.core.display.Math object>"
            ],
            "text/latex": "$\\displaystyle λ = 0.00847058823529412 PT + 9.05882352941176$"
          },
          "metadata": {}
        }
      ]
    },
    {
      "cell_type": "code",
      "source": [
        "inc_cost = lambdify(PT, L, \"numpy\")"
      ],
      "metadata": {
        "id": "B9PQKJzD5n4h"
      },
      "execution_count": null,
      "outputs": []
    },
    {
      "cell_type": "code",
      "source": [
        "plt.figure(figsize=(12,7))\n",
        "\n",
        "plt.title('Incremental Operating Cost vs Power Output')\n",
        "\n",
        "plt.plot(Pt, inc_cost(Pt))\n",
        "\n",
        "plt.xticks(Pt)\n",
        "plt.xlabel('Unit Output (MW)')\n",
        "plt.ylabel('Unit Operating Cost ($/h)')\n",
        "\n",
        "plt.grid()\n",
        "plt.show()"
      ],
      "metadata": {
        "colab": {
          "base_uri": "https://localhost:8080/",
          "height": 458
        },
        "id": "SWO9-pNn7C79",
        "outputId": "b065912a-c001-48e7-d768-e7e4d62fb533"
      },
      "execution_count": null,
      "outputs": [
        {
          "output_type": "display_data",
          "data": {
            "text/plain": [
              "<Figure size 864x504 with 1 Axes>"
            ],
            "image/png": "[encoded data removed]"
          },
          "metadata": {
            "needs_background": "light"
          }
        }
      ]
    },
    {
      "cell_type": "code",
      "source": [
        "CT = C1 + C2\n",
        "\n",
        "c_t = lambdify((P1, P2), CT)\n",
        "p1 = lambdify(PT, P1_s)\n",
        "p2 = lambdify(PT, P2_s)\n",
        "\n",
        "c1 = lambdify(P1, C1)\n",
        "c2 = lambdify(P2, C2)"
      ],
      "metadata": {
        "id": "_gcxAXxA9Cd2"
      },
      "execution_count": null,
      "outputs": []
    },
    {
      "cell_type": "code",
      "source": [
        "plt.figure(figsize=(12,7))\n",
        "\n",
        "plt.title('Unit Operating Cost vs Power Output')\n",
        "\n",
        "plt.plot(Pt, c1(p1(Pt)), label='C1')\n",
        "plt.plot(Pt, c2(p2(Pt)), label='C2')\n",
        "\n",
        "plt.xticks(Pt)\n",
        "plt.xlabel('Unit Output (MW)')\n",
        "plt.ylabel('Unit Operating Cost ($/h)')\n",
        "\n",
        "plt.grid()\n",
        "plt.legend()\n",
        "plt.show()"
      ],
      "metadata": {
        "colab": {
          "base_uri": "https://localhost:8080/",
          "height": 458
        },
        "id": "hYWfPZxpA9Hk",
        "outputId": "c04656e4-71f7-4166-df7e-4ca4ac1692dd"
      },
      "execution_count": null,
      "outputs": [
        {
          "output_type": "display_data",
          "data": {
            "text/plain": [
              "<Figure size 864x504 with 1 Axes>"
            ],
            "image/png": "[encoded data removed]"
          },
          "metadata": {
            "needs_background": "light"
          }
        }
      ]
    },
    {
      "cell_type": "code",
      "source": [
        "plt.figure(figsize=(12,7))\n",
        "\n",
        "plt.title('Load Demand vs Power Output')\n",
        "\n",
        "plt.plot(Pt, p1(Pt), label='P1')\n",
        "plt.plot(Pt, p2(Pt), label='P2')\n",
        "\n",
        "plt.xticks(Pt)\n",
        "plt.xlabel('Load Output (MW)')\n",
        "plt.ylabel('Load Demand (MW)')\n",
        "\n",
        "plt.grid()\n",
        "plt.legend()\n",
        "plt.show()"
      ],
      "metadata": {
        "colab": {
          "base_uri": "https://localhost:8080/",
          "height": 458
        },
        "id": "f2ZHPdx0DWmw",
        "outputId": "60a12c97-5e6c-47a0-c502-0c9c84e8d9be"
      },
      "execution_count": null,
      "outputs": [
        {
          "output_type": "display_data",
          "data": {
            "text/plain": [
              "<Figure size 864x504 with 1 Axes>"
            ],
            "image/png": "[encoded data removed]"
          },
          "metadata": {
            "needs_background": "light"
          }
        }
      ]
    },
    {
      "cell_type": "code",
      "source": [
        "dispatch_soln = {\n",
        "    'PT (MW)': Pt,\n",
        "    'P1 (MW)': np.round(p1(Pt)),\n",
        "    'P2 (MW)': np.round(p2(Pt)),\n",
        "    'dC1/dP1 ($/MWh)': np.round(inc_cost(Pt),2),\n",
        "    'CT ($/h)': np.round(c_t(p1(Pt), p2(Pt))) \n",
        "}\n",
        "dispatch_df = pd.DataFrame(dispatch_soln)\n",
        "dispatch_df"
      ],
      "metadata": {
        "colab": {
          "base_uri": "https://localhost:8080/",
          "height": 394
        },
        "id": "M8S6xQ3JEVEX",
        "outputId": "a82bd8fb-e5de-4ec2-c38f-5b330e8eaf88"
      },
      "execution_count": null,
      "outputs": [
        {
          "output_type": "execute_result",
          "data": {
            "text/plain": [
              "    PT (MW)  P1 (MW)  P2 (MW)  dC1/dP1 ($/MWh)  CT ($/h)\n",
              "0       500    206.0    294.0            13.29    5529.0\n",
              "1       600    259.0    341.0            14.14    6901.0\n",
              "2       700    312.0    388.0            14.99    8358.0\n",
              "3       800    365.0    435.0            15.84    9899.0\n",
              "4       900    418.0    482.0            16.68   11525.0\n",
              "5      1000    471.0    529.0            17.53   13235.0\n",
              "6      1100    524.0    576.0            18.38   15031.0\n",
              "7      1200    576.0    624.0            19.22   16911.0\n",
              "8      1300    629.0    671.0            20.07   18875.0\n",
              "9      1400    682.0    718.0            20.92   20925.0\n",
              "10     1500    735.0    765.0            21.76   23059.0"
            ],
            "text/html": [
              "\n",
              "  <div id=\"df-5923c501-7193-4a89-8cad-7475edd14310\">\n",
              "    <div class=\"colab-df-container\">\n",
              "      <div>\n",
              "<style scoped>\n",
              "    .dataframe tbody tr th:only-of-type {\n",
              "        vertical-align: middle;\n",
              "    }\n",
              "\n",
              "    .dataframe tbody tr th {\n",
              "        vertical-align: top;\n",
              "    }\n",
              "\n",
              "    .dataframe thead th {\n",
              "        text-align: right;\n",
              "    }\n",
              "</style>\n",
              "<table border=\"1\" class=\"dataframe\">\n",
              "  <thead>\n",
              "    <tr style=\"text-align: right;\">\n",
              "      <th></th>\n",
              "      <th>PT (MW)</th>\n",
              "      <th>P1 (MW)</th>\n",
              "      <th>P2 (MW)</th>\n",
              "      <th>dC1/dP1 ($/MWh)</th>\n",
              "      <th>CT ($/h)</th>\n",
              "    </tr>\n",
              "  </thead>\n",
              "  <tbody>\n",
              "    <tr>\n",
              "      <th>0</th>\n",
              "      <td>500</td>\n",
              "      <td>206.0</td>\n",
              "      <td>294.0</td>\n",
              "      <td>13.29</td>\n",
              "      <td>5529.0</td>\n",
              "    </tr>\n",
              "    <tr>\n",
              "      <th>1</th>\n",
              "      <td>600</td>\n",
              "      <td>259.0</td>\n",
              "      <td>341.0</td>\n",
              "      <td>14.14</td>\n",
              "      <td>6901.0</td>\n",
              "    </tr>\n",
              "    <tr>\n",
              "      <th>2</th>\n",
              "      <td>700</td>\n",
              "      <td>312.0</td>\n",
              "      <td>388.0</td>\n",
              "      <td>14.99</td>\n",
              "      <td>8358.0</td>\n",
              "    </tr>\n",
              "    <tr>\n",
              "      <th>3</th>\n",
              "      <td>800</td>\n",
              "      <td>365.0</td>\n",
              "      <td>435.0</td>\n",
              "      <td>15.84</td>\n",
              "      <td>9899.0</td>\n",
              "    </tr>\n",
              "    <tr>\n",
              "      <th>4</th>\n",
              "      <td>900</td>\n",
              "      <td>418.0</td>\n",
              "      <td>482.0</td>\n",
              "      <td>16.68</td>\n",
              "      <td>11525.0</td>\n",
              "    </tr>\n",
              "    <tr>\n",
              "      <th>5</th>\n",
              "      <td>1000</td>\n",
              "      <td>471.0</td>\n",
              "      <td>529.0</td>\n",
              "      <td>17.53</td>\n",
              "      <td>13235.0</td>\n",
              "    </tr>\n",
              "    <tr>\n",
              "      <th>6</th>\n",
              "      <td>1100</td>\n",
              "      <td>524.0</td>\n",
              "      <td>576.0</td>\n",
              "      <td>18.38</td>\n",
              "      <td>15031.0</td>\n",
              "    </tr>\n",
              "    <tr>\n",
              "      <th>7</th>\n",
              "      <td>1200</td>\n",
              "      <td>576.0</td>\n",
              "      <td>624.0</td>\n",
              "      <td>19.22</td>\n",
              "      <td>16911.0</td>\n",
              "    </tr>\n",
              "    <tr>\n",
              "      <th>8</th>\n",
              "      <td>1300</td>\n",
              "      <td>629.0</td>\n",
              "      <td>671.0</td>\n",
              "      <td>20.07</td>\n",
              "      <td>18875.0</td>\n",
              "    </tr>\n",
              "    <tr>\n",
              "      <th>9</th>\n",
              "      <td>1400</td>\n",
              "      <td>682.0</td>\n",
              "      <td>718.0</td>\n",
              "      <td>20.92</td>\n",
              "      <td>20925.0</td>\n",
              "    </tr>\n",
              "    <tr>\n",
              "      <th>10</th>\n",
              "      <td>1500</td>\n",
              "      <td>735.0</td>\n",
              "      <td>765.0</td>\n",
              "      <td>21.76</td>\n",
              "      <td>23059.0</td>\n",
              "    </tr>\n",
              "  </tbody>\n",
              "</table>\n",
              "</div>\n",
              "      <button class=\"colab-df-convert\" onclick=\"convertToInteractive('df-5923c501-7193-4a89-8cad-7475edd14310')\"\n",
              "              title=\"Convert this dataframe to an interactive table.\"\n",
              "              style=\"display:none;\">\n",
              "        \n",
              "  <svg xmlns=\"http://www.w3.org/2000/svg\" height=\"24px\"viewBox=\"0 0 24 24\"\n",
              "       width=\"24px\">\n",
              "    <path d=\"M0 0h24v24H0V0z\" fill=\"none\"/>\n",
              "    <path d=\"M18.56 5.44l.94 2.06.94-2.06 2.06-.94-2.06-.94-.94-2.06-.94 2.06-2.06.94zm-11 1L8.5 8.5l.94-2.06 2.06-.94-2.06-.94L8.5 2.5l-.94 2.06-2.06.94zm10 10l.94 2.06.94-2.06 2.06-.94-2.06-.94-.94-2.06-.94 2.06-2.06.94z\"/><path d=\"M17.41 7.96l-1.37-1.37c-.4-.4-.92-.59-1.43-.59-.52 0-1.04.2-1.43.59L10.3 9.45l-7.72 7.72c-.78.78-.78 2.05 0 2.83L4 21.41c.39.39.9.59 1.41.59.51 0 1.02-.2 1.41-.59l7.78-7.78 2.81-2.81c.8-.78.8-2.07 0-2.86zM5.41 20L4 18.59l7.72-7.72 1.47 1.35L5.41 20z\"/>\n",
              "  </svg>\n",
              "      </button>\n",
              "      \n",
              "  <style>\n",
              "    .colab-df-container {\n",
              "      display:flex;\n",
              "      flex-wrap:wrap;\n",
              "      gap: 12px;\n",
              "    }\n",
              "\n",
              "    .colab-df-convert {\n",
              "      background-color: #E8F0FE;\n",
              "      border: none;\n",
              "      border-radius: 50%;\n",
              "      cursor: pointer;\n",
              "      display: none;\n",
              "      fill: #1967D2;\n",
              "      height: 32px;\n",
              "      padding: 0 0 0 0;\n",
              "      width: 32px;\n",
              "    }\n",
              "\n",
              "    .colab-df-convert:hover {\n",
              "      background-color: #E2EBFA;\n",
              "      box-shadow: 0px 1px 2px rgba(60, 64, 67, 0.3), 0px 1px 3px 1px rgba(60, 64, 67, 0.15);\n",
              "      fill: #174EA6;\n",
              "    }\n",
              "\n",
              "    [theme=dark] .colab-df-convert {\n",
              "      background-color: #3B4455;\n",
              "      fill: #D2E3FC;\n",
              "    }\n",
              "\n",
              "    [theme=dark] .colab-df-convert:hover {\n",
              "      background-color: #434B5C;\n",
              "      box-shadow: 0px 1px 3px 1px rgba(0, 0, 0, 0.15);\n",
              "      filter: drop-shadow(0px 1px 2px rgba(0, 0, 0, 0.3));\n",
              "      fill: #FFFFFF;\n",
              "    }\n",
              "  </style>\n",
              "\n",
              "      <script>\n",
              "        const buttonEl =\n",
              "          document.querySelector('#df-5923c501-7193-4a89-8cad-7475edd14310 button.colab-df-convert');\n",
              "        buttonEl.style.display =\n",
              "          google.colab.kernel.accessAllowed ? 'block' : 'none';\n",
              "\n",
              "        async function convertToInteractive(key) {\n",
              "          const element = document.querySelector('#df-5923c501-7193-4a89-8cad-7475edd14310');\n",
              "          const dataTable =\n",
              "            await google.colab.kernel.invokeFunction('convertToInteractive',\n",
              "                                                     [key], {});\n",
              "          if (!dataTable) return;\n",
              "\n",
              "          const docLinkHtml = 'Like what you see? Visit the ' +\n",
              "            '<a target=\"_blank\" href=https://colab.research.google.com/notebooks/data_table.ipynb>data table notebook</a>'\n",
              "            + ' to learn more about interactive tables.';\n",
              "          element.innerHTML = '';\n",
              "          dataTable['output_type'] = 'display_data';\n",
              "          await google.colab.output.renderOutput(dataTable, element);\n",
              "          const docLink = document.createElement('div');\n",
              "          docLink.innerHTML = docLinkHtml;\n",
              "          element.appendChild(docLink);\n",
              "        }\n",
              "      </script>\n",
              "    </div>\n",
              "  </div>\n",
              "  "
            ]
          },
          "metadata": {},
          "execution_count": 36
        }
      ]
    }
  ]
}